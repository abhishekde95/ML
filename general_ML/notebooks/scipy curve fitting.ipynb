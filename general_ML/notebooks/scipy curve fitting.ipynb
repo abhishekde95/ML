{
 "cells": [
  {
   "cell_type": "markdown",
   "id": "b968c045-6dfd-4c96-95ba-cd60bb2253c0",
   "metadata": {},
   "source": [
    "# Scipy curve fitting"
   ]
  },
  {
   "cell_type": "markdown",
   "id": "800ca37c-892a-4d57-a0d6-13062b3f8ce5",
   "metadata": {},
   "source": [
    "## 1. Importing libraries"
   ]
  },
  {
   "cell_type": "code",
   "execution_count": 1,
   "id": "25c1b0e0-5ab7-4538-99b9-8f929480a99d",
   "metadata": {},
   "outputs": [],
   "source": [
    "import numpy as np\n",
    "import matplotlib.pyplot as plt\n",
    "from scipy.optimize import curve_fit\n",
    "from scipy import optimize"
   ]
  },
  {
   "cell_type": "markdown",
   "id": "7f89e79a-dd13-4b1e-b7cd-9221d48c81c4",
   "metadata": {},
   "source": [
    "## 2. Fitting a simple curve"
   ]
  },
  {
   "cell_type": "code",
   "execution_count": 20,
   "id": "f59518dd-e7ad-4a69-8903-f59e42d3a4c2",
   "metadata": {},
   "outputs": [],
   "source": [
    "# Function to fit\n",
    "def func(x, a, b):\n",
    "    return a * np.exp(b * x)\n",
    "\n",
    "\n",
    "# Experimental data\n",
    "x = np.asarray([1, 2, 3, 4, 5])\n",
    "y = np.asarray([1, 9, 50, 300, 1500])\n",
    "\n",
    "# Fitting\n",
    "initial_guess = np.asarray([1, 1])\n",
    "popt, pcov = curve_fit(func, xdata=x, ydata=y, p0=initial_guess)"
   ]
  },
  {
   "cell_type": "code",
   "execution_count": 22,
   "id": "b25fe46c-f6ae-42e7-ba48-9c1d4c0ac364",
   "metadata": {},
   "outputs": [
    {
     "data": {
      "text/plain": [
       "<matplotlib.legend.Legend at 0x7fda41e07430>"
      ]
     },
     "execution_count": 22,
     "metadata": {},
     "output_type": "execute_result"
    },
    {
     "data": {
      "image/png": "[encoded data removed]",
      "text/plain": [
       "<Figure size 504x432 with 1 Axes>"
      ]
     },
     "metadata": {
      "needs_background": "light"
     },
     "output_type": "display_data"
    }
   ],
   "source": [
    "fig, ax = plt.subplots(1, 1, figsize=(7, 6))\n",
    "fig.tight_layout(pad=5)\n",
    "\n",
    "y_pred = func(np.linspace(1, 5, 101), *popt)\n",
    "\n",
    "ax.plot(x, y, \"ko\", label=\"Experimental data\")\n",
    "ax.plot(np.linspace(1, 5, 101), y_pred, \"r-\", label=\"Fit\")\n",
    "ax.spines[\"top\"].set_visible(False)\n",
    "ax.spines[\"right\"].set_visible(False)\n",
    "ax.legend()"
   ]
  },
  {
   "cell_type": "markdown",
   "id": "6deb2e17-6f79-430d-a03a-61e5119558e8",
   "metadata": {},
   "source": [
    "### 3. Usin scipy.optimize.minimize"
   ]
  },
  {
   "cell_type": "code",
   "execution_count": 7,
   "id": "b072d32b-6fce-44f2-a52b-dd13e097df23",
   "metadata": {},
   "outputs": [],
   "source": [
    "data_x0 = [2.1, 0.5, 0.9, 1.7, 1.1]\n",
    "result = optimize.minimize(\n",
    "    fun=optimize.rosen, x0=data_x0, method=\"Nelder-Mead\", tol=1e-5\n",
    ")"
   ]
  },
  {
   "cell_type": "code",
   "execution_count": 8,
   "id": "c5e0d238-fd2f-45ae-b3ab-483b7a61fc06",
   "metadata": {},
   "outputs": [
    {
     "data": {
      "text/plain": [
       " final_simplex: (array([[-0.96205046,  0.93573826,  0.88071191,  0.77787492,  0.6050894 ],\n",
       "       [-0.962051  ,  0.9357395 ,  0.88071362,  0.77787731,  0.60509355],\n",
       "       [-0.96205002,  0.93573776,  0.88071026,  0.77787155,  0.60508411],\n",
       "       [-0.96205   ,  0.93573787,  0.88071077,  0.77787275,  0.60508667],\n",
       "       [-0.96205039,  0.93573771,  0.88071021,  0.77787193,  0.6050854 ],\n",
       "       [-0.96205019,  0.93573735,  0.88070994,  0.77787073,  0.60508345]]), array([3.93083943, 3.93083943, 3.93083943, 3.93083943, 3.93083943,\n",
       "       3.93083943]))\n",
       "           fun: 3.9308394341659705\n",
       "       message: 'Optimization terminated successfully.'\n",
       "          nfev: 739\n",
       "           nit: 460\n",
       "        status: 0\n",
       "       success: True\n",
       "             x: array([-0.96205046,  0.93573826,  0.88071191,  0.77787492,  0.6050894 ])"
      ]
     },
     "execution_count": 8,
     "metadata": {},
     "output_type": "execute_result"
    }
   ],
   "source": [
    "result"
   ]
  },
  {
   "cell_type": "code",
   "execution_count": null,
   "id": "4c7e31f5-570e-4d57-96dd-ec5c237b6c3e",
   "metadata": {},
   "outputs": [],
   "source": []
  },
  {
   "cell_type": "code",
   "execution_count": null,
   "id": "98866268-9f5a-47ae-a464-74dee14b5dbd",
   "metadata": {},
   "outputs": [],
   "source": []
  }
 ],
 "metadata": {
  "kernelspec": {
   "display_name": "ML",
   "language": "python",
   "name": "ml"
  },
  "language_info": {
   "codemirror_mode": {
    "name": "ipython",
    "version": 3
   },
   "file_extension": ".py",
   "mimetype": "text/x-python",
   "name": "python",
   "nbconvert_exporter": "python",
   "pygments_lexer": "ipython3",
   "version": "3.9.12"
  }
 },
 "nbformat": 4,
 "nbformat_minor": 5
}
