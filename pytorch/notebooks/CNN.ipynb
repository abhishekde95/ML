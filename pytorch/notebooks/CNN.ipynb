{
 "cells": [
  {
   "cell_type": "markdown",
   "id": "f31594b9-dbc9-47cd-9e4f-fbff72b09bc7",
   "metadata": {},
   "source": [
    "# Convolutional neural network"
   ]
  },
  {
   "cell_type": "markdown",
   "id": "363b67f4-1ebc-4c0e-9df9-d719dd21493a",
   "metadata": {},
   "source": [
    "## 1. Importing libraries"
   ]
  },
  {
   "cell_type": "code",
   "execution_count": 4,
   "id": "dba8e1b4-827f-4edc-bdeb-932b8e5a44e6",
   "metadata": {},
   "outputs": [],
   "source": [
    "import numpy as np\n",
    "import matplotlib.pyplot as plt\n",
    "import torch \n",
    "import os\n",
    "import cv2\n",
    "from tqdm import tqdm\n",
    "\n",
    "REBUILD_DATA = True"
   ]
  },
  {
   "cell_type": "markdown",
   "id": "111d2222-cfb6-4e44-9c44-b23ee647fc70",
   "metadata": {},
   "source": [
    "## 2. Loading the data"
   ]
  },
  {
   "cell_type": "code",
   "execution_count": 7,
   "id": "35fd11a5-7598-4bad-992a-617cb2b778e2",
   "metadata": {},
   "outputs": [],
   "source": [
    "IMG_SIZE = 50\n",
    "CATS = \"../kagglecatsanddogs_5340/PetImages/Cat/\"\n",
    "DOGS = \"../kagglecatsanddogs_5340/PetImages/Dog/\"\n",
    "LABELS = {CATS:0, DOGS:1}\n",
    "\n",
    "class DogsvsCats():\n",
    "    training_data=[]\n",
    "    catcount=0\n",
    "    dogcount=0\n",
    "        "
   ]
  },
  {
   "cell_type": "code",
   "execution_count": null,
   "id": "c7b08ba1-a40f-4962-b31c-9be12eb660ec",
   "metadata": {},
   "outputs": [],
   "source": []
  }
 ],
 "metadata": {
  "kernelspec": {
   "display_name": "ML",
   "language": "python",
   "name": "ml"
  },
  "language_info": {
   "codemirror_mode": {
    "name": "ipython",
    "version": 3
   },
   "file_extension": ".py",
   "mimetype": "text/x-python",
   "name": "python",
   "nbconvert_exporter": "python",
   "pygments_lexer": "ipython3",
   "version": "3.9.12"
  }
 },
 "nbformat": 4,
 "nbformat_minor": 5
}
