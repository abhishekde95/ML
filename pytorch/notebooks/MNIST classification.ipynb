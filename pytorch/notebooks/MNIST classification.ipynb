{
 "cells": [
  {
   "cell_type": "markdown",
   "id": "53f7a333-d212-4d06-b504-96c7199f2d4d",
   "metadata": {},
   "source": [
    "## MNIST classification using PyTorch"
   ]
  },
  {
   "cell_type": "markdown",
   "id": "f8e70e11-4138-4ec1-b7ef-136b34132fbc",
   "metadata": {},
   "source": [
    "## 1. Importing libraries"
   ]
  },
  {
   "cell_type": "code",
   "execution_count": 23,
   "id": "9dd3e32c-f625-48e8-8e93-04634d8ca878",
   "metadata": {},
   "outputs": [],
   "source": [
    "import numpy as np\n",
    "import pandas as pd\n",
    "import matplotlib.pyplot as plt\n",
    "import seaborn as sns\n",
    "\n",
    "# Torch\n",
    "import torch\n",
    "import torchvision\n",
    "from torchvision import transforms, datasets\n",
    "import torch.nn as nn\n",
    "import torch.nn.functional as F\n",
    "import torch.optim as optim"
   ]
  },
  {
   "cell_type": "markdown",
   "id": "eecd2878-c65a-4935-b77f-b300b461c5e1",
   "metadata": {},
   "source": [
    "## 2. Playing around with torch"
   ]
  },
  {
   "cell_type": "markdown",
   "id": "fcb768e0-a875-4834-9b3e-cb56206cd3eb",
   "metadata": {},
   "source": [
    "### 2.1 Multiplication"
   ]
  },
  {
   "cell_type": "code",
   "execution_count": 2,
   "id": "21b90fc6-ce28-4e62-8c7d-bb553f3e1b13",
   "metadata": {},
   "outputs": [
    {
     "name": "stdout",
     "output_type": "stream",
     "text": [
      "tensor([5., 6.])\n",
      "tensor(11.)\n",
      "tensor(11.)\n"
     ]
    }
   ],
   "source": [
    "x = torch.Tensor([5,3])\n",
    "y = torch.Tensor([1,2])\n",
    "\n",
    "print(x * y)\n",
    "print(x @ y)\n",
    "print(torch.matmul(x,y))"
   ]
  },
  {
   "cell_type": "markdown",
   "id": "8a95b3b9-bedc-4f37-b590-8a498b0e7777",
   "metadata": {},
   "source": [
    "### 2.2 Initialization"
   ]
  },
  {
   "cell_type": "code",
   "execution_count": 3,
   "id": "a1c6a549-aa15-4f2d-918c-e3ec55d7b302",
   "metadata": {},
   "outputs": [
    {
     "name": "stdout",
     "output_type": "stream",
     "text": [
      "tensor([[0., 0., 0., 0., 0.],\n",
      "        [0., 0., 0., 0., 0.]])\n"
     ]
    },
    {
     "data": {
      "text/plain": [
       "torch.Size([2, 5])"
      ]
     },
     "execution_count": 3,
     "metadata": {},
     "output_type": "execute_result"
    }
   ],
   "source": [
    "x = torch.zeros([2,5])\n",
    "print(x)\n",
    "x.shape"
   ]
  },
  {
   "cell_type": "code",
   "execution_count": 4,
   "id": "72071f31-7184-4ab9-b2fb-e52bead1da36",
   "metadata": {},
   "outputs": [
    {
     "name": "stdout",
     "output_type": "stream",
     "text": [
      "tensor([[0.0263, 0.2611, 0.9786, 0.0304, 0.0551],\n",
      "        [0.9238, 0.0645, 0.5383, 0.3537, 0.5221]])\n"
     ]
    }
   ],
   "source": [
    "y = torch.rand([2,5])\n",
    "print(y)"
   ]
  },
  {
   "cell_type": "markdown",
   "id": "5cfca1da-148b-4c2e-8ead-2d514a9076f9",
   "metadata": {},
   "source": [
    "### 2.3 Reshaping"
   ]
  },
  {
   "cell_type": "code",
   "execution_count": 5,
   "id": "9aee158f-4fc6-4d50-b93c-f520f23fbf9e",
   "metadata": {},
   "outputs": [
    {
     "data": {
      "text/plain": [
       "tensor([[0.8582, 0.6208, 0.5766, 0.4445, 0.4212, 0.3609, 0.3222, 0.7340, 0.4772,\n",
       "         0.6029]])"
      ]
     },
     "execution_count": 5,
     "metadata": {},
     "output_type": "execute_result"
    }
   ],
   "source": [
    "# Reshaping in \n",
    "y = torch.rand([2,5])\n",
    "y.view([1,10])"
   ]
  },
  {
   "cell_type": "code",
   "execution_count": 6,
   "id": "aacc1a55-2594-4dcd-bc7c-116f6955272f",
   "metadata": {},
   "outputs": [
    {
     "data": {
      "text/plain": [
       "tensor([[0.8582, 0.6208, 0.5766, 0.4445, 0.4212],\n",
       "        [0.3609, 0.3222, 0.7340, 0.4772, 0.6029]])"
      ]
     },
     "execution_count": 6,
     "metadata": {},
     "output_type": "execute_result"
    }
   ],
   "source": [
    "# Operation not 'inplace'\n",
    "y"
   ]
  },
  {
   "cell_type": "markdown",
   "id": "052666ea-d068-49b7-99c6-c40762b8a7ae",
   "metadata": {},
   "source": [
    "## 3. MNIST classification"
   ]
  },
  {
   "cell_type": "markdown",
   "id": "ea237001-60e5-42db-abfd-007174aa78e7",
   "metadata": {},
   "source": [
    "### 3.1 Data inspection"
   ]
  },
  {
   "cell_type": "code",
   "execution_count": 7,
   "id": "482a65ae-df88-43d2-a57d-9081db1367be",
   "metadata": {},
   "outputs": [],
   "source": [
    "train = datasets.MNIST(\"../\", \n",
    "                       train=True, \n",
    "                       download=True,\n",
    "                       transform=transforms.Compose([transforms.ToTensor()]))\n",
    "\n",
    "test = datasets.MNIST(\"../\", \n",
    "                       train=False, \n",
    "                       download=True,\n",
    "                       transform=transforms.Compose([transforms.ToTensor()]))"
   ]
  },
  {
   "cell_type": "code",
   "execution_count": 8,
   "id": "b36e8776-7bad-4d57-959b-6a96e8b3a3d1",
   "metadata": {},
   "outputs": [],
   "source": [
    "trainset = torch.utils.data.DataLoader(train, batch_size=10, shuffle=True)\n",
    "testset = torch.utils.data.DataLoader(test, batch_size=10, shuffle=True)"
   ]
  },
  {
   "cell_type": "code",
   "execution_count": 9,
   "id": "84c49903-fa24-4fac-b671-69a0900bbf32",
   "metadata": {},
   "outputs": [
    {
     "data": {
      "image/png": "[encoded data removed]",
      "text/plain": [
       "<Figure size 1080x360 with 10 Axes>"
      ]
     },
     "metadata": {
      "needs_background": "light"
     },
     "output_type": "display_data"
    }
   ],
   "source": [
    "# Plotting a sample dataset\n",
    "for data in trainset:\n",
    "    break\n",
    "    \n",
    "    \n",
    "fig, ax = plt.subplots(2,5,figsize=(15,5))\n",
    "ax = ax.ravel()\n",
    "fig.tight_layout(pad=4)\n",
    "\n",
    "for i, (x, y )in enumerate(zip(data[0],data[1])):\n",
    "    ax[i].imshow(x.view([28,28]), cmap='gray')\n",
    "    ax[i].set_title(y, fontsize=15)\n",
    "    "
   ]
  },
  {
   "cell_type": "code",
   "execution_count": 10,
   "id": "9c4c2fd4-67c1-4be2-a3eb-f0310335bb71",
   "metadata": {},
   "outputs": [
    {
     "name": "stdout",
     "output_type": "stream",
     "text": [
      "{0: 5923, 1: 6742, 2: 5958, 3: 6131, 4: 5842, 5: 5421, 6: 5918, 7: 6265, 8: 5851, 9: 5949}\n"
     ]
    }
   ],
   "source": [
    "# Seeing whether the dataset is imbalanced\n",
    "total = 0\n",
    "counter_dict = {0:0, 1:0, 2:0, 3:0, 4:0, 5:0, 6:0, 7:0, 8:0, 9:0}\n",
    "\n",
    "for data in trainset:\n",
    "    xs, ys = data\n",
    "    for y in ys:\n",
    "        counter_dict[int(y)] +=1\n",
    "        total +=1\n",
    "        \n",
    "print(counter_dict)"
   ]
  },
  {
   "cell_type": "code",
   "execution_count": 11,
   "id": "601054d5-ebb7-49d1-89d3-9608f5d6c3e8",
   "metadata": {},
   "outputs": [
    {
     "name": "stdout",
     "output_type": "stream",
     "text": [
      "0: 9.872\n",
      "1: 11.237\n",
      "2: 9.93\n",
      "3: 10.218\n",
      "4: 9.737\n",
      "5: 9.035\n",
      "6: 9.863\n",
      "7: 10.442\n",
      "8: 9.752\n",
      "9: 9.915\n"
     ]
    }
   ],
   "source": [
    "for i in counter_dict:\n",
    "    print(f\"{i}: {np.around(100* (counter_dict[i]/total),3)}\")"
   ]
  },
  {
   "cell_type": "markdown",
   "id": "66740174-fbec-40b4-835a-1fc14e40f82b",
   "metadata": {},
   "source": [
    "### 3.2 Building the neural network"
   ]
  },
  {
   "cell_type": "markdown",
   "id": "2886b871-124d-4af3-ad68-39468b368953",
   "metadata": {},
   "source": [
    "#### 3.2.1 Network initialization"
   ]
  },
  {
   "cell_type": "code",
   "execution_count": 12,
   "id": "21ce3ffd-1e50-48ff-9153-047b28296058",
   "metadata": {},
   "outputs": [],
   "source": [
    "\n",
    "\n",
    "IMAGE_SIZE_1D = xs[0].size()[1] * xs[0].size()[2]\n",
    "\n",
    "class Net(nn.Module):\n",
    "    \n",
    "    def __init__(self):\n",
    "        super().__init__()\n",
    "        self.fc1 = nn.Linear(in_features=IMAGE_SIZE_1D, out_features=64)\n",
    "        self.fc2 = nn.Linear(in_features=64, out_features=64)\n",
    "        self.fc3 = nn.Linear(in_features=64, out_features=64)\n",
    "        self.fc4 = nn.Linear(in_features=64, out_features=10)\n",
    "        \n",
    "    def forward(self, x):\n",
    "        x = F.relu(self.fc1(x))\n",
    "        x = F.relu(self.fc2(x))\n",
    "        x = F.relu(self.fc3(x))\n",
    "        x = self.fc4(x)\n",
    "        \n",
    "        return F.log_softmax(x, dim=1)\n",
    "        "
   ]
  },
  {
   "cell_type": "code",
   "execution_count": 22,
   "id": "b0c99984-6d14-47de-8f3e-8ff864e4b093",
   "metadata": {},
   "outputs": [
    {
     "name": "stdout",
     "output_type": "stream",
     "text": [
      "tensor(6)\n"
     ]
    },
    {
     "data": {
      "text/plain": [
       "<matplotlib.image.AxesImage at 0x7fa4d0862a30>"
      ]
     },
     "execution_count": 22,
     "metadata": {},
     "output_type": "execute_result"
    },
    {
     "data": {
      "image/png": "[encoded data removed]",
      "text/plain": [
       "<Figure size 432x288 with 1 Axes>"
      ]
     },
     "metadata": {
      "needs_background": "light"
     },
     "output_type": "display_data"
    }
   ],
   "source": [
    "# Sample testing whether the network outputs without error\n",
    "\n",
    "X = torch.rand([28,28]).view(-1,784)\n",
    "net = Net()\n",
    "output = net(X)\n",
    "print(output.argmax())\n",
    "\n",
    "plt.imshow(X.view([28,28]), cmap='gray')"
   ]
  },
  {
   "cell_type": "markdown",
   "id": "186ee5cd-e14c-473d-8562-45bf6f8a3476",
   "metadata": {},
   "source": [
    "#### 3.2.2 Training the network"
   ]
  },
  {
   "cell_type": "code",
   "execution_count": 35,
   "id": "0c5cdf11-8d54-4d39-9ed9-14b51ce4fa99",
   "metadata": {},
   "outputs": [
    {
     "name": "stdout",
     "output_type": "stream",
     "text": [
      "tensor(0.0006, grad_fn=<NllLossBackward0>)\n",
      "tensor(0.0014, grad_fn=<NllLossBackward0>)\n",
      "tensor(1.7690e-05, grad_fn=<NllLossBackward0>)\n",
      "tensor(0.0069, grad_fn=<NllLossBackward0>)\n",
      "tensor(1.0907e-05, grad_fn=<NllLossBackward0>)\n",
      "tensor(0.0009, grad_fn=<NllLossBackward0>)\n",
      "tensor(0.0017, grad_fn=<NllLossBackward0>)\n",
      "tensor(3.2186e-07, grad_fn=<NllLossBackward0>)\n",
      "tensor(0.0002, grad_fn=<NllLossBackward0>)\n",
      "tensor(7.1526e-08, grad_fn=<NllLossBackward0>)\n"
     ]
    }
   ],
   "source": [
    "optimizer = optim.Adam(net.parameters(), lr=0.001)\n",
    "EPOCHS = 10\n",
    "\n",
    "for epoch in range(EPOCHS):\n",
    "    for data in trainset:\n",
    "        # data is a batch of features and labels\n",
    "        X, y = data\n",
    "        \n",
    "        # Zero the gradient before the run\n",
    "        net.zero_grad()\n",
    "        \n",
    "        # Compute the loss\n",
    "        output = net(X.view(-1,IMAGE_SIZE_1D))\n",
    "        loss = F.nll_loss(output, y)\n",
    "        \n",
    "        # Backpropagation\n",
    "        loss.backward()\n",
    "        optimizer.step()\n",
    "        \n",
    "    print(loss)"
   ]
  },
  {
   "cell_type": "markdown",
   "id": "4b1e8731-aad4-4888-a1d9-88b3f8ef3e9b",
   "metadata": {},
   "source": [
    "#### 3.2.3 Testing"
   ]
  },
  {
   "cell_type": "code",
   "execution_count": 39,
   "id": "76c71607-d61e-401c-be6a-68a741415298",
   "metadata": {},
   "outputs": [
    {
     "name": "stdout",
     "output_type": "stream",
     "text": [
      "Accuracy = 0.995\n"
     ]
    }
   ],
   "source": [
    "correct = 0\n",
    "total = 0\n",
    "\n",
    "with torch.no_grad():\n",
    "    for data in trainset:\n",
    "        X, y = data\n",
    "        output = net(X.view(-1,IMAGE_SIZE_1D))\n",
    "        for idx, i in enumerate(output):\n",
    "            if torch.argmax(i) == y[idx]:\n",
    "                correct +=1 \n",
    "            total +=1\n",
    "print(\"Accuracy = {}\".format(np.around(correct/total,3)))\n",
    "            \n",
    "        "
   ]
  },
  {
   "cell_type": "markdown",
   "id": "89b08615-5f29-4f8f-89a9-1c37baeeb7fa",
   "metadata": {},
   "source": [
    "#### 3.2.4 Verifying output"
   ]
  },
  {
   "cell_type": "code",
   "execution_count": 46,
   "id": "870fe3c8-95e9-4200-8a74-c3214aba2379",
   "metadata": {},
   "outputs": [
    {
     "data": {
      "image/png": "[encoded data removed]",
      "text/plain": [
       "<Figure size 1080x360 with 10 Axes>"
      ]
     },
     "metadata": {},
     "output_type": "display_data"
    }
   ],
   "source": [
    "fig, ax = plt.subplots(2,5,figsize=(15,5))\n",
    "ax = ax.ravel()\n",
    "fig.tight_layout(pad=4)\n",
    "\n",
    "for i, x in enumerate(X):\n",
    "    ax[i].imshow(x.view([28,28]), cmap='gray')\n",
    "    ax[i].set_title(torch.argmax(net(x.view([-1,IMAGE_SIZE_1D]))))\n",
    "    ax[i].set_xticks([])\n",
    "    ax[i].set_yticks([])"
   ]
  },
  {
   "cell_type": "code",
   "execution_count": null,
   "id": "7638abf9-cb5c-44bb-a634-1cc6df4a126a",
   "metadata": {},
   "outputs": [],
   "source": []
  },
  {
   "cell_type": "code",
   "execution_count": null,
   "id": "b2f20b40-6e20-4ae8-a275-76bfd57bc743",
   "metadata": {},
   "outputs": [],
   "source": []
  }
 ],
 "metadata": {
  "kernelspec": {
   "display_name": "ML",
   "language": "python",
   "name": "ml"
  },
  "language_info": {
   "codemirror_mode": {
    "name": "ipython",
    "version": 3
   },
   "file_extension": ".py",
   "mimetype": "text/x-python",
   "name": "python",
   "nbconvert_exporter": "python",
   "pygments_lexer": "ipython3",
   "version": "3.9.12"
  }
 },
 "nbformat": 4,
 "nbformat_minor": 5
}
